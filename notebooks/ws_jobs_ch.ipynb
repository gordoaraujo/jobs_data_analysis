{
 "cells": [
  {
   "cell_type": "code",
   "execution_count": 1,
   "metadata": {},
   "outputs": [],
   "source": [
    "import sys, os\n",
    "import pandas as pd\n",
    "import numpy as np\n",
    "import seaborn as sns\n",
    "import matplotlib.pyplot as plt\n",
    "import string\n",
    "import re\n",
    "import collections\n",
    "\n",
    "sys.path.insert(0, os.path.dirname(os.path.abspath('../src')))\n",
    "from src.getjobsch import *"
   ]
  },
  {
   "attachments": {},
   "cell_type": "markdown",
   "metadata": {},
   "source": [
    "### Web Scraping\n",
    "\n",
    "The file `src/getjobsch` contains the necesary functions to pull infomation from https://www.jobs.ch/en/vacancies/. The function works in the following way:\n",
    "- Receives a list of job positions on natural language\n",
    "- The function `clean_job_keywords` will transform those key words to search keywords by removing white spaces and replacing them with `%20` characters\n",
    "- Once the necesary keywords were obtained the function `df_full_data` will proceed to pull info for each job in the following way:\n",
    "  - Get the number of available pages for each job position\n",
    "  - For each of the available pages, scrap an individual text box using the function `get_data_one_job` and concatenating the info by using the function `df_all_jobs`\n",
    "  - In case no job postings are found an error should be printed (see example below)."
   ]
  },
  {
   "cell_type": "code",
   "execution_count": null,
   "metadata": {},
   "outputs": [],
   "source": [
    "# Key words to be searched\n",
    "job_positions = [\"Data Engineer\", \"Data Scientist\", \"Data Analyst\", \"Python Developer\", \"Data Manager\", \"Data Architect\", \"Big Data Analyst\", \"Data Python\"]"
   ]
  },
  {
   "cell_type": "code",
   "execution_count": null,
   "metadata": {},
   "outputs": [],
   "source": [
    "# DO NOT RUN\n",
    "\n",
    "# Run the function to get both errors and \n",
    "df_all = df_full_data(job_positions)\n",
    "\n",
    "# In this case we should not have errors\n",
    "errors = df_all[\"errors\"]\n",
    "errors"
   ]
  },
  {
   "cell_type": "code",
   "execution_count": null,
   "metadata": {},
   "outputs": [],
   "source": [
    "# Print the found jobs\n",
    "df_jobs = df_all[\"results\"]\n",
    "df_jobs.head(10)"
   ]
  },
  {
   "attachments": {},
   "cell_type": "markdown",
   "metadata": {},
   "source": [
    "In case of not web scraping load the data"
   ]
  },
  {
   "cell_type": "code",
   "execution_count": 40,
   "metadata": {},
   "outputs": [
    {
     "data": {
      "text/html": [
       "<div>\n",
       "<style scoped>\n",
       "    .dataframe tbody tr th:only-of-type {\n",
       "        vertical-align: middle;\n",
       "    }\n",
       "\n",
       "    .dataframe tbody tr th {\n",
       "        vertical-align: top;\n",
       "    }\n",
       "\n",
       "    .dataframe thead th {\n",
       "        text-align: right;\n",
       "    }\n",
       "</style>\n",
       "<table border=\"1\" class=\"dataframe\">\n",
       "  <thead>\n",
       "    <tr style=\"text-align: right;\">\n",
       "      <th></th>\n",
       "      <th>title</th>\n",
       "      <th>publication_date</th>\n",
       "      <th>location</th>\n",
       "      <th>workload</th>\n",
       "      <th>job_type</th>\n",
       "      <th>company</th>\n",
       "      <th>job_link</th>\n",
       "      <th>keyword</th>\n",
       "    </tr>\n",
       "  </thead>\n",
       "  <tbody>\n",
       "    <tr>\n",
       "      <th>0</th>\n",
       "      <td>Data Engineer temp. 24 months (w/m/d)</td>\n",
       "      <td>25 avril 2023</td>\n",
       "      <td>Baden</td>\n",
       "      <td>100%</td>\n",
       "      <td>Temporary</td>\n",
       "      <td>Axpo Group</td>\n",
       "      <td>https://www.jobs.ch/en/vacancies/detail/3fa23b...</td>\n",
       "      <td>data engineer</td>\n",
       "    </tr>\n",
       "    <tr>\n",
       "      <th>1</th>\n",
       "      <td>Big Data Engineer (w/m/d)</td>\n",
       "      <td>24 mai 2023</td>\n",
       "      <td>St. Gallen</td>\n",
       "      <td>80% – 100%</td>\n",
       "      <td>Unlimited employment</td>\n",
       "      <td>Raiffeisen Schweiz</td>\n",
       "      <td>https://www.jobs.ch/en/vacancies/detail/450b00...</td>\n",
       "      <td>data engineer</td>\n",
       "    </tr>\n",
       "    <tr>\n",
       "      <th>2</th>\n",
       "      <td>CSV Engineer MedTech 80% (5306 – KFR)</td>\n",
       "      <td>17 mai 2023</td>\n",
       "      <td>Ostschweiz</td>\n",
       "      <td>80%</td>\n",
       "      <td>Temporary</td>\n",
       "      <td>CTC Resourcing Solutions</td>\n",
       "      <td>https://www.jobs.ch/en/vacancies/detail/cf1d02...</td>\n",
       "      <td>data engineer</td>\n",
       "    </tr>\n",
       "    <tr>\n",
       "      <th>3</th>\n",
       "      <td>Azure Data Ingenieur (m/w/d)</td>\n",
       "      <td>23 mai 2023</td>\n",
       "      <td>Zell LU</td>\n",
       "      <td>80% – 100%</td>\n",
       "      <td>Unlimited employment</td>\n",
       "      <td>ROCKEN</td>\n",
       "      <td>https://www.jobs.ch/en/vacancies/detail/7720c6...</td>\n",
       "      <td>data engineer</td>\n",
       "    </tr>\n",
       "    <tr>\n",
       "      <th>4</th>\n",
       "      <td>Low Code Solution Engineer (80-100 %)</td>\n",
       "      <td>15 mai 2023</td>\n",
       "      <td>Ittigen</td>\n",
       "      <td>80% – 100%</td>\n",
       "      <td>Unlimited employment</td>\n",
       "      <td>Gebäudeversicherung Bern – GVB Gruppe</td>\n",
       "      <td>https://www.jobs.ch/en/vacancies/detail/96ba41...</td>\n",
       "      <td>data engineer</td>\n",
       "    </tr>\n",
       "  </tbody>\n",
       "</table>\n",
       "</div>"
      ],
      "text/plain": [
       "                                   title publication_date    location   \n",
       "0  Data Engineer temp. 24 months (w/m/d)    25 avril 2023       Baden  \\\n",
       "1              Big Data Engineer (w/m/d)      24 mai 2023  St. Gallen   \n",
       "2  CSV Engineer MedTech 80% (5306 – KFR)      17 mai 2023  Ostschweiz   \n",
       "3           Azure Data Ingenieur (m/w/d)      23 mai 2023     Zell LU   \n",
       "4  Low Code Solution Engineer (80-100 %)      15 mai 2023     Ittigen   \n",
       "\n",
       "     workload              job_type                                company   \n",
       "0        100%             Temporary                             Axpo Group  \\\n",
       "1  80% – 100%  Unlimited employment                     Raiffeisen Schweiz   \n",
       "2         80%             Temporary               CTC Resourcing Solutions   \n",
       "3  80% – 100%  Unlimited employment                                 ROCKEN   \n",
       "4  80% – 100%  Unlimited employment  Gebäudeversicherung Bern – GVB Gruppe   \n",
       "\n",
       "                                            job_link        keyword  \n",
       "0  https://www.jobs.ch/en/vacancies/detail/3fa23b...  data engineer  \n",
       "1  https://www.jobs.ch/en/vacancies/detail/450b00...  data engineer  \n",
       "2  https://www.jobs.ch/en/vacancies/detail/cf1d02...  data engineer  \n",
       "3  https://www.jobs.ch/en/vacancies/detail/7720c6...  data engineer  \n",
       "4  https://www.jobs.ch/en/vacancies/detail/96ba41...  data engineer  "
      ]
     },
     "execution_count": 40,
     "metadata": {},
     "output_type": "execute_result"
    }
   ],
   "source": [
    "# Load found jobs\n",
    "# df_jobs = pd.read_csv(\"../data/raw/df_jobs_ch.csv\", index_col=[0])\n",
    "# df_jobs.head()"
   ]
  },
  {
   "attachments": {},
   "cell_type": "markdown",
   "metadata": {},
   "source": [
    "## Web scrapping the individual job positions"
   ]
  },
  {
   "cell_type": "code",
   "execution_count": 3,
   "metadata": {},
   "outputs": [],
   "source": [
    "## DO NOT RUN\n",
    "\n",
    "results = get_job_keywords(df_jobs)"
   ]
  },
  {
   "cell_type": "code",
   "execution_count": 4,
   "metadata": {},
   "outputs": [],
   "source": [
    "programming_summary = results[\"programming_summary\"]\n",
    "skills_summary = results[\"skills_summary\"]\n",
    "python_summary = results[\"python_summary\"]\n",
    "errors = results[\"errors\"]"
   ]
  },
  {
   "cell_type": "code",
   "execution_count": 5,
   "metadata": {},
   "outputs": [
    {
     "name": "stdout",
     "output_type": "stream",
     "text": [
      "There were 452 positions without available information\n"
     ]
    }
   ],
   "source": [
    "print(f\"There were {len(errors)} positions without available information\")"
   ]
  },
  {
   "cell_type": "code",
   "execution_count": 6,
   "metadata": {},
   "outputs": [
    {
     "name": "stdout",
     "output_type": "stream",
     "text": [
      "Counter({'python': 2208, 'sql': 1810, 'r': 517, 'javascript': 239, 'php': 205, 'java': 192, 'plsql': 170, 'scala': 121, 'matlab': 116, 'powershell': 115, 'perl': 102, 'c++': 87, 'pascal': 87, 'bash': 82, 'vba': 68, 'nosql': 48, 'c#': 42, 'go': 42, 'css': 42, 'mssql': 34, 'tsql': 34, 'ruby': 34, 'assembly': 28, 'html': 21, 'typescript': 14})\n"
     ]
    }
   ],
   "source": [
    "print(programming_summary)"
   ]
  },
  {
   "cell_type": "code",
   "execution_count": 7,
   "metadata": {},
   "outputs": [
    {
     "name": "stdout",
     "output_type": "stream",
     "text": [
      "Counter({'pytorch': 155, 'pandas': 68, 'scikitlearn': 68, 'tensorflow': 68, 'plotly': 14})\n"
     ]
    }
   ],
   "source": [
    "print(python_summary)"
   ]
  },
  {
   "cell_type": "code",
   "execution_count": 8,
   "metadata": {},
   "outputs": [
    {
     "name": "stdout",
     "output_type": "stream",
     "text": [
      "Counter({'sap': 2352, 'aws': 732, 'tableau': 565, 'excel': 549, 'hadoop': 526, 'spark': 364, 'linux': 326, 'powerbi': 325, 'airflow': 232, 'sharepoint': 123, 'qlik': 82, 'pandas': 68, 'spss': 68, 'word': 34, 'powerpoint': 34, 'vue': 34, 'ssrs': 34, 'ssis': 14, 'jquery': 7})\n"
     ]
    }
   ],
   "source": [
    "print(skills_summary)"
   ]
  },
  {
   "attachments": {},
   "cell_type": "markdown",
   "metadata": {},
   "source": [
    "### Store Raw Data"
   ]
  },
  {
   "cell_type": "code",
   "execution_count": 9,
   "metadata": {},
   "outputs": [],
   "source": [
    "# df_jobs.to_csv(\"../data/raw/df_jobs_ch.csv\")\n",
    "# pd.DataFrame(dict(programming_summary).items()).to_csv(\"../data/raw/programming_summary_2.csv\")\n",
    "# pd.DataFrame(dict(python_summary).items()).to_csv(\"../data/raw/python_summary_2.csv\")\n",
    "# pd.DataFrame(dict(skills_summary).items()).to_csv(\"../data/raw/skills_summary_2.csv\")"
   ]
  },
  {
   "attachments": {},
   "cell_type": "markdown",
   "metadata": {},
   "source": [
    "## Grouped data web scrapping\n",
    "\n",
    "Here we applied the `get_job_keywords` to the grouped data set. This will be migrated to a function in `src`."
   ]
  },
  {
   "cell_type": "code",
   "execution_count": 38,
   "metadata": {},
   "outputs": [
    {
     "data": {
      "text/html": [
       "<div>\n",
       "<style scoped>\n",
       "    .dataframe tbody tr th:only-of-type {\n",
       "        vertical-align: middle;\n",
       "    }\n",
       "\n",
       "    .dataframe tbody tr th {\n",
       "        vertical-align: top;\n",
       "    }\n",
       "\n",
       "    .dataframe thead th {\n",
       "        text-align: right;\n",
       "    }\n",
       "</style>\n",
       "<table border=\"1\" class=\"dataframe\">\n",
       "  <thead>\n",
       "    <tr style=\"text-align: right;\">\n",
       "      <th></th>\n",
       "      <th>title</th>\n",
       "      <th>publication_date</th>\n",
       "      <th>location</th>\n",
       "      <th>workload</th>\n",
       "      <th>job_type</th>\n",
       "      <th>company</th>\n",
       "      <th>job_link</th>\n",
       "      <th>keyword</th>\n",
       "    </tr>\n",
       "  </thead>\n",
       "  <tbody>\n",
       "    <tr>\n",
       "      <th>0</th>\n",
       "      <td>Data Engineer temp. 24 months (w/m/d)</td>\n",
       "      <td>25 avril 2023</td>\n",
       "      <td>Baden</td>\n",
       "      <td>100%</td>\n",
       "      <td>Temporary</td>\n",
       "      <td>Axpo Group</td>\n",
       "      <td>https://www.jobs.ch/en/vacancies/detail/3fa23b...</td>\n",
       "      <td>data engineer</td>\n",
       "    </tr>\n",
       "    <tr>\n",
       "      <th>1</th>\n",
       "      <td>Big Data Engineer (w/m/d)</td>\n",
       "      <td>24 mai 2023</td>\n",
       "      <td>St. Gallen</td>\n",
       "      <td>80% – 100%</td>\n",
       "      <td>Unlimited employment</td>\n",
       "      <td>Raiffeisen Schweiz</td>\n",
       "      <td>https://www.jobs.ch/en/vacancies/detail/450b00...</td>\n",
       "      <td>data engineer</td>\n",
       "    </tr>\n",
       "    <tr>\n",
       "      <th>2</th>\n",
       "      <td>CSV Engineer MedTech 80% (5306 – KFR)</td>\n",
       "      <td>17 mai 2023</td>\n",
       "      <td>Ostschweiz</td>\n",
       "      <td>80%</td>\n",
       "      <td>Temporary</td>\n",
       "      <td>CTC Resourcing Solutions</td>\n",
       "      <td>https://www.jobs.ch/en/vacancies/detail/cf1d02...</td>\n",
       "      <td>data engineer</td>\n",
       "    </tr>\n",
       "    <tr>\n",
       "      <th>3</th>\n",
       "      <td>Azure Data Ingenieur (m/w/d)</td>\n",
       "      <td>23 mai 2023</td>\n",
       "      <td>Zell LU</td>\n",
       "      <td>80% – 100%</td>\n",
       "      <td>Unlimited employment</td>\n",
       "      <td>ROCKEN</td>\n",
       "      <td>https://www.jobs.ch/en/vacancies/detail/7720c6...</td>\n",
       "      <td>data engineer</td>\n",
       "    </tr>\n",
       "    <tr>\n",
       "      <th>4</th>\n",
       "      <td>Low Code Solution Engineer (80-100 %)</td>\n",
       "      <td>15 mai 2023</td>\n",
       "      <td>Ittigen</td>\n",
       "      <td>80% – 100%</td>\n",
       "      <td>Unlimited employment</td>\n",
       "      <td>Gebäudeversicherung Bern – GVB Gruppe</td>\n",
       "      <td>https://www.jobs.ch/en/vacancies/detail/96ba41...</td>\n",
       "      <td>data engineer</td>\n",
       "    </tr>\n",
       "  </tbody>\n",
       "</table>\n",
       "</div>"
      ],
      "text/plain": [
       "                                   title publication_date    location   \n",
       "0  Data Engineer temp. 24 months (w/m/d)    25 avril 2023       Baden  \\\n",
       "1              Big Data Engineer (w/m/d)      24 mai 2023  St. Gallen   \n",
       "2  CSV Engineer MedTech 80% (5306 – KFR)      17 mai 2023  Ostschweiz   \n",
       "3           Azure Data Ingenieur (m/w/d)      23 mai 2023     Zell LU   \n",
       "4  Low Code Solution Engineer (80-100 %)      15 mai 2023     Ittigen   \n",
       "\n",
       "     workload              job_type                                company   \n",
       "0        100%             Temporary                             Axpo Group  \\\n",
       "1  80% – 100%  Unlimited employment                     Raiffeisen Schweiz   \n",
       "2         80%             Temporary               CTC Resourcing Solutions   \n",
       "3  80% – 100%  Unlimited employment                                 ROCKEN   \n",
       "4  80% – 100%  Unlimited employment  Gebäudeversicherung Bern – GVB Gruppe   \n",
       "\n",
       "                                            job_link        keyword  \n",
       "0  https://www.jobs.ch/en/vacancies/detail/3fa23b...  data engineer  \n",
       "1  https://www.jobs.ch/en/vacancies/detail/450b00...  data engineer  \n",
       "2  https://www.jobs.ch/en/vacancies/detail/cf1d02...  data engineer  \n",
       "3  https://www.jobs.ch/en/vacancies/detail/7720c6...  data engineer  \n",
       "4  https://www.jobs.ch/en/vacancies/detail/96ba41...  data engineer  "
      ]
     },
     "execution_count": 38,
     "metadata": {},
     "output_type": "execute_result"
    }
   ],
   "source": [
    "df_reduced = df_jobs[df_jobs[\"keyword\"].isin([\"data engineer\", \"data scientist\", \"data analyst\"])].copy()\n",
    "df_reduced.head()"
   ]
  },
  {
   "attachments": {},
   "cell_type": "markdown",
   "metadata": {},
   "source": [
    "Here we web scraped the grouped data"
   ]
  },
  {
   "cell_type": "code",
   "execution_count": 12,
   "metadata": {},
   "outputs": [],
   "source": [
    "## DO NOT RUN\n",
    "\n",
    "grouped_results = {}\n",
    "for i, (grp, df) in enumerate(df_reduced.groupby(by = \"keyword\")):\n",
    "  g_results = get_job_keywords(df)\n",
    "  grouped_results[grp] = grouped_results.get(grp, g_results)"
   ]
  },
  {
   "cell_type": "code",
   "execution_count": 13,
   "metadata": {},
   "outputs": [
    {
     "data": {
      "text/plain": [
       "dict_keys(['data analyst', 'data engineer', 'data scientist'])"
      ]
     },
     "execution_count": 13,
     "metadata": {},
     "output_type": "execute_result"
    }
   ],
   "source": [
    "grouped_results.keys()"
   ]
  },
  {
   "cell_type": "code",
   "execution_count": 23,
   "metadata": {},
   "outputs": [
    {
     "data": {
      "text/plain": [
       "dict_keys(['programming_summary', 'skills_summary', 'python_summary', 'errors'])"
      ]
     },
     "execution_count": 23,
     "metadata": {},
     "output_type": "execute_result"
    }
   ],
   "source": [
    "grouped_results[\"data scientist\"].keys()"
   ]
  },
  {
   "cell_type": "code",
   "execution_count": 28,
   "metadata": {},
   "outputs": [],
   "source": [
    "ds_prog = pd.DataFrame(dict(grouped_results[\"data scientist\"][\"programming_summary\"]).items()).rename(columns={0 : \"skill\", 1 : \"count\"})\n",
    "ds_prog[\"type\"] = \"programming\"\n",
    "\n",
    "ds_tech = pd.DataFrame(dict(grouped_results[\"data scientist\"][\"skills_summary\"]).items()).rename(columns={0 : \"skill\", 1 : \"count\"})\n",
    "ds_tech[\"type\"] = \"tech\"\n",
    "\n",
    "ds_python = pd.DataFrame(dict(grouped_results[\"data scientist\"][\"python_summary\"]).items()).rename(columns={0 : \"skill\", 1 : \"count\"})\n",
    "ds_python[\"type\"] = \"python\"\n",
    "\n",
    "df_ds = pd.concat([ds_prog, ds_tech, ds_python], ignore_index=True) # .reset_index()\n",
    "df_ds[\"keyword\"] = \"data scientist\"\n",
    "# df_ds"
   ]
  },
  {
   "cell_type": "code",
   "execution_count": 31,
   "metadata": {},
   "outputs": [],
   "source": [
    "de_prog = pd.DataFrame(dict(grouped_results[\"data engineer\"][\"programming_summary\"]).items()).rename(columns={0 : \"skill\", 1 : \"count\"})\n",
    "de_prog[\"type\"] = \"programming\"\n",
    "\n",
    "de_tech = pd.DataFrame(dict(grouped_results[\"data engineer\"][\"skills_summary\"]).items()).rename(columns={0 : \"skill\", 1 : \"count\"})\n",
    "de_tech[\"type\"] = \"tech\"\n",
    "\n",
    "de_python = pd.DataFrame(dict(grouped_results[\"data engineer\"][\"python_summary\"]).items()).rename(columns={0 : \"skill\", 1 : \"count\"})\n",
    "de_python[\"type\"] = \"python\"\n",
    "\n",
    "df_de = pd.concat([de_prog, de_tech, de_python], ignore_index=True) # .reset_index()\n",
    "df_de[\"keyword\"] = \"data engineer\"\n",
    "# df_de"
   ]
  },
  {
   "cell_type": "code",
   "execution_count": 33,
   "metadata": {},
   "outputs": [],
   "source": [
    "da_prog = pd.DataFrame(dict(grouped_results[\"data analyst\"][\"programming_summary\"]).items()).rename(columns={0 : \"skill\", 1 : \"count\"})\n",
    "da_prog[\"type\"] = \"programming\"\n",
    "\n",
    "da_tech = pd.DataFrame(dict(grouped_results[\"data analyst\"][\"skills_summary\"]).items()).rename(columns={0 : \"skill\", 1 : \"count\"})\n",
    "da_tech[\"type\"] = \"tech\"\n",
    "\n",
    "da_python = pd.DataFrame(dict(grouped_results[\"data analyst\"][\"python_summary\"]).items()).rename(columns={0 : \"skill\", 1 : \"count\"})\n",
    "da_python[\"type\"] = \"python\"\n",
    "\n",
    "df_da = pd.concat([da_prog, da_tech, da_python], ignore_index=True) # .reset_index()\n",
    "df_da[\"keyword\"] = \"data analyst\"\n",
    "# df_da"
   ]
  },
  {
   "attachments": {},
   "cell_type": "markdown",
   "metadata": {},
   "source": [
    "Writing the data to a csv file, for faster plotting."
   ]
  },
  {
   "cell_type": "code",
   "execution_count": 35,
   "metadata": {},
   "outputs": [],
   "source": [
    "df_all = pd.concat([df_ds, df_de, df_da], ignore_index = True)\n",
    "# df_all.to_csv(\"../data/raw/skills_by_category.csv\")"
   ]
  },
  {
   "cell_type": "code",
   "execution_count": 39,
   "metadata": {},
   "outputs": [
    {
     "data": {
      "text/html": [
       "<div>\n",
       "<style scoped>\n",
       "    .dataframe tbody tr th:only-of-type {\n",
       "        vertical-align: middle;\n",
       "    }\n",
       "\n",
       "    .dataframe tbody tr th {\n",
       "        vertical-align: top;\n",
       "    }\n",
       "\n",
       "    .dataframe thead th {\n",
       "        text-align: right;\n",
       "    }\n",
       "</style>\n",
       "<table border=\"1\" class=\"dataframe\">\n",
       "  <thead>\n",
       "    <tr style=\"text-align: right;\">\n",
       "      <th></th>\n",
       "      <th>skill</th>\n",
       "      <th>count</th>\n",
       "      <th>type</th>\n",
       "      <th>keyword</th>\n",
       "    </tr>\n",
       "  </thead>\n",
       "  <tbody>\n",
       "    <tr>\n",
       "      <th>0</th>\n",
       "      <td>sql</td>\n",
       "      <td>300</td>\n",
       "      <td>programming</td>\n",
       "      <td>data scientist</td>\n",
       "    </tr>\n",
       "    <tr>\n",
       "      <th>1</th>\n",
       "      <td>python</td>\n",
       "      <td>200</td>\n",
       "      <td>programming</td>\n",
       "      <td>data scientist</td>\n",
       "    </tr>\n",
       "    <tr>\n",
       "      <th>2</th>\n",
       "      <td>r</td>\n",
       "      <td>150</td>\n",
       "      <td>programming</td>\n",
       "      <td>data scientist</td>\n",
       "    </tr>\n",
       "    <tr>\n",
       "      <th>3</th>\n",
       "      <td>javascript</td>\n",
       "      <td>50</td>\n",
       "      <td>programming</td>\n",
       "      <td>data scientist</td>\n",
       "    </tr>\n",
       "    <tr>\n",
       "      <th>4</th>\n",
       "      <td>php</td>\n",
       "      <td>25</td>\n",
       "      <td>programming</td>\n",
       "      <td>data scientist</td>\n",
       "    </tr>\n",
       "  </tbody>\n",
       "</table>\n",
       "</div>"
      ],
      "text/plain": [
       "        skill  count         type         keyword\n",
       "0         sql    300  programming  data scientist\n",
       "1      python    200  programming  data scientist\n",
       "2           r    150  programming  data scientist\n",
       "3  javascript     50  programming  data scientist\n",
       "4         php     25  programming  data scientist"
      ]
     },
     "execution_count": 39,
     "metadata": {},
     "output_type": "execute_result"
    }
   ],
   "source": [
    "df_all.head()"
   ]
  }
 ],
 "metadata": {
  "kernelspec": {
   "display_name": "Python 3 (ipykernel)",
   "language": "python",
   "name": "python3"
  },
  "language_info": {
   "codemirror_mode": {
    "name": "ipython",
    "version": 3
   },
   "file_extension": ".py",
   "mimetype": "text/x-python",
   "name": "python",
   "nbconvert_exporter": "python",
   "pygments_lexer": "ipython3",
   "version": "3.11.3"
  }
 },
 "nbformat": 4,
 "nbformat_minor": 4
}
