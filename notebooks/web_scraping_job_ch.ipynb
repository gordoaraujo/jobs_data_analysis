{
 "cells": [
  {
   "cell_type": "code",
   "execution_count": 1,
   "metadata": {},
   "outputs": [],
   "source": [
    "import pandas as pd\n",
    "import numpy as np\n",
    "import seaborn as sns\n",
    "import matplotlib.pyplot as plt\n",
    "import string\n",
    "from src.getalljobs import *"
   ]
  },
  {
   "attachments": {},
   "cell_type": "markdown",
   "metadata": {},
   "source": [
    "# Scraping Jobs.ch\n",
    "\n",
    "As a job seeker, one has to search through job portals to find most relevant jobs related to your profile. In this exercise, your goal is to find all jobs related to keywords: “Data Scientist”, “Data Analyst”, “Python Developer”, “Data Engineer”, “Data Manager”, “Data Architect”, “Big Data Analyst” and “Data Python” on jobs.ch.\n",
    "1. Download all necessary information (including job title, date, company name, location…) for all webpages.\n",
    "2. Using the information obtained, perform a descriptive analysis on this data including questions:\n",
    "   - How many jobs are shared between these categories?\n",
    "   - How much the keywords: “Data Analyst” and “Big Data Analyst” overlap?\n",
    "   - Are there some companies doing more hires than average?\n",
    "   - How many jobs are there in different Kantons?\n",
    "   - Is “machine learning” keyword more often in data scientist or data analyst jobs?\n",
    "   - What is the distribution of most common keywords between and across categories?\n",
    "3. Produce a report in the form of a clean notebook (or jupyter slides), with commented code and markdown cells for structuring and interpretations."
   ]
  },
  {
   "attachments": {},
   "cell_type": "markdown",
   "metadata": {},
   "source": [
    "### Web Scraping\n",
    "\n",
    "The file `src/getalljobs` contains the necesary functions to pull infomation from https://www.jobs.ch/en/vacancies/. The function works in the following way:\n",
    "- Receives a list of job positions on natural language\n",
    "- The function `clean_job_keywords` will transform those key words to search keywords by removing white spaces and replacing them with `%20` characters\n",
    "- Once the necesary keywords were obtained the function `df_full_data` will proceed to pull info for each job in the following way:\n",
    "  - Get the number of available pages for each job position\n",
    "  - For each of the available pages, scrap an individual text box using the function `get_data_one_job` and concatenating the info by using the function `df_all_jobs`\n",
    "  - In case no job postings are found an error should be printed (see example below)."
   ]
  },
  {
   "cell_type": "code",
   "execution_count": 2,
   "metadata": {},
   "outputs": [],
   "source": [
    "# Key words to be searched\n",
    "job_positions = [\"Data Engineer\", \"Data Scientist\", \"Data Analyst\", \"Python Developer\", \"Data Manager\", \"Data Architect\", \"Big Data Analyst\", \"Data Python\"]"
   ]
  },
  {
   "cell_type": "code",
   "execution_count": 3,
   "metadata": {},
   "outputs": [
    {
     "data": {
      "text/plain": [
       "[]"
      ]
     },
     "execution_count": 3,
     "metadata": {},
     "output_type": "execute_result"
    }
   ],
   "source": [
    "# Run the function to get both errors and \n",
    "df_all = df_full_data(job_positions)\n",
    "\n",
    "# In this case we should not have errors\n",
    "errors = df_all[\"errors\"]\n",
    "errors"
   ]
  },
  {
   "cell_type": "code",
   "execution_count": 4,
   "metadata": {},
   "outputs": [
    {
     "data": {
      "text/html": [
       "<div>\n",
       "<style scoped>\n",
       "    .dataframe tbody tr th:only-of-type {\n",
       "        vertical-align: middle;\n",
       "    }\n",
       "\n",
       "    .dataframe tbody tr th {\n",
       "        vertical-align: top;\n",
       "    }\n",
       "\n",
       "    .dataframe thead th {\n",
       "        text-align: right;\n",
       "    }\n",
       "</style>\n",
       "<table border=\"1\" class=\"dataframe\">\n",
       "  <thead>\n",
       "    <tr style=\"text-align: right;\">\n",
       "      <th></th>\n",
       "      <th>title</th>\n",
       "      <th>publication_date</th>\n",
       "      <th>location</th>\n",
       "      <th>workload</th>\n",
       "      <th>job_type</th>\n",
       "      <th>company</th>\n",
       "      <th>job_link</th>\n",
       "      <th>keyword</th>\n",
       "    </tr>\n",
       "  </thead>\n",
       "  <tbody>\n",
       "    <tr>\n",
       "      <th>0</th>\n",
       "      <td>Data Engineer temp. 24 months (w/m/d)</td>\n",
       "      <td>25 April 2023</td>\n",
       "      <td>Baden</td>\n",
       "      <td>100%</td>\n",
       "      <td>Temporary</td>\n",
       "      <td>Axpo Group</td>\n",
       "      <td>https://www.jobs.ch/en/vacancies/detail/3fa23b...</td>\n",
       "      <td>data engineer</td>\n",
       "    </tr>\n",
       "    <tr>\n",
       "      <th>1</th>\n",
       "      <td>Head Engineering &amp; Development (m/w/d) - Digit...</td>\n",
       "      <td>11 Mai 2023</td>\n",
       "      <td>Oftringen AG</td>\n",
       "      <td>100%</td>\n",
       "      <td>Unlimited employment</td>\n",
       "      <td>Mercuri Urval AG</td>\n",
       "      <td>https://www.jobs.ch/en/vacancies/detail/54aa6c...</td>\n",
       "      <td>data engineer</td>\n",
       "    </tr>\n",
       "    <tr>\n",
       "      <th>2</th>\n",
       "      <td>DevOps Engineer 80-100% (w/m/d)</td>\n",
       "      <td>11 Mai 2023</td>\n",
       "      <td>Bendern</td>\n",
       "      <td>80% – 100%</td>\n",
       "      <td>Unlimited employment</td>\n",
       "      <td>LGT</td>\n",
       "      <td>https://www.jobs.ch/en/vacancies/detail/c8f7e0...</td>\n",
       "      <td>data engineer</td>\n",
       "    </tr>\n",
       "    <tr>\n",
       "      <th>3</th>\n",
       "      <td>Application Support Engineer</td>\n",
       "      <td>20 April 2023</td>\n",
       "      <td>Unterentfelden</td>\n",
       "      <td>100%</td>\n",
       "      <td>Unlimited employment</td>\n",
       "      <td>Hexagon Manufacturing Intelligence</td>\n",
       "      <td>https://www.jobs.ch/en/vacancies/detail/8dd0c8...</td>\n",
       "      <td>data engineer</td>\n",
       "    </tr>\n",
       "    <tr>\n",
       "      <th>4</th>\n",
       "      <td>Produktentwicklungsingenieur*</td>\n",
       "      <td>17 April 2023</td>\n",
       "      <td>Biel</td>\n",
       "      <td>100%</td>\n",
       "      <td>Unlimited employment</td>\n",
       "      <td>HARTING AG</td>\n",
       "      <td>https://www.jobs.ch/en/vacancies/detail/6b99d0...</td>\n",
       "      <td>data engineer</td>\n",
       "    </tr>\n",
       "    <tr>\n",
       "      <th>5</th>\n",
       "      <td>Experienced Machine Learning Engineer (f/m/d)</td>\n",
       "      <td>12 Mai 2023</td>\n",
       "      <td>Heerbrugg</td>\n",
       "      <td>80% – 100%</td>\n",
       "      <td>Unlimited employment</td>\n",
       "      <td>Hexagon Technology Center GmbH</td>\n",
       "      <td>https://www.jobs.ch/en/vacancies/detail/1db76b...</td>\n",
       "      <td>data engineer</td>\n",
       "    </tr>\n",
       "    <tr>\n",
       "      <th>6</th>\n",
       "      <td>Bauingenieur/-in als Projektleiter/-in Wasserv...</td>\n",
       "      <td>03 April 2023</td>\n",
       "      <td>Sursee</td>\n",
       "      <td>60% – 100%</td>\n",
       "      <td>Unlimited employment</td>\n",
       "      <td>Kost + Partner AG Sursee</td>\n",
       "      <td>https://www.jobs.ch/en/vacancies/detail/29b656...</td>\n",
       "      <td>data engineer</td>\n",
       "    </tr>\n",
       "    <tr>\n",
       "      <th>7</th>\n",
       "      <td>Field Test / R&amp;D Engineer</td>\n",
       "      <td>05 Mai 2023</td>\n",
       "      <td>Kriens</td>\n",
       "      <td>100%</td>\n",
       "      <td>Unlimited employment</td>\n",
       "      <td>ANDRITZ</td>\n",
       "      <td>https://www.jobs.ch/en/vacancies/detail/c7b03a...</td>\n",
       "      <td>data engineer</td>\n",
       "    </tr>\n",
       "    <tr>\n",
       "      <th>8</th>\n",
       "      <td>Service Engineer (m/w/d) 80-100 %</td>\n",
       "      <td>12 April 2023</td>\n",
       "      <td>Winterthur</td>\n",
       "      <td>80% – 100%</td>\n",
       "      <td>Unlimited employment</td>\n",
       "      <td>Swiss Birdradar Solution AG</td>\n",
       "      <td>https://www.jobs.ch/en/vacancies/detail/cf9b05...</td>\n",
       "      <td>data engineer</td>\n",
       "    </tr>\n",
       "    <tr>\n",
       "      <th>9</th>\n",
       "      <td>Ingénieur Service Client Laboratoire 80-100% (...</td>\n",
       "      <td>26 April 2023</td>\n",
       "      <td>Renens, CH-VD</td>\n",
       "      <td>80% – 100%</td>\n",
       "      <td>Unlimited employment</td>\n",
       "      <td>Siemens Healthineers International AG</td>\n",
       "      <td>https://www.jobs.ch/en/vacancies/detail/bbdf25...</td>\n",
       "      <td>data engineer</td>\n",
       "    </tr>\n",
       "  </tbody>\n",
       "</table>\n",
       "</div>"
      ],
      "text/plain": [
       "                                               title publication_date   \n",
       "0              Data Engineer temp. 24 months (w/m/d)    25 April 2023  \\\n",
       "1  Head Engineering & Development (m/w/d) - Digit...      11 Mai 2023   \n",
       "2                    DevOps Engineer 80-100% (w/m/d)      11 Mai 2023   \n",
       "3                       Application Support Engineer    20 April 2023   \n",
       "4                      Produktentwicklungsingenieur*    17 April 2023   \n",
       "5      Experienced Machine Learning Engineer (f/m/d)      12 Mai 2023   \n",
       "6  Bauingenieur/-in als Projektleiter/-in Wasserv...    03 April 2023   \n",
       "7                          Field Test / R&D Engineer      05 Mai 2023   \n",
       "8                  Service Engineer (m/w/d) 80-100 %    12 April 2023   \n",
       "9  Ingénieur Service Client Laboratoire 80-100% (...    26 April 2023   \n",
       "\n",
       "         location    workload              job_type   \n",
       "0           Baden        100%             Temporary  \\\n",
       "1    Oftringen AG        100%  Unlimited employment   \n",
       "2         Bendern  80% – 100%  Unlimited employment   \n",
       "3  Unterentfelden        100%  Unlimited employment   \n",
       "4            Biel        100%  Unlimited employment   \n",
       "5       Heerbrugg  80% – 100%  Unlimited employment   \n",
       "6          Sursee  60% – 100%  Unlimited employment   \n",
       "7          Kriens        100%  Unlimited employment   \n",
       "8      Winterthur  80% – 100%  Unlimited employment   \n",
       "9   Renens, CH-VD  80% – 100%  Unlimited employment   \n",
       "\n",
       "                                 company   \n",
       "0                             Axpo Group  \\\n",
       "1                       Mercuri Urval AG   \n",
       "2                                    LGT   \n",
       "3     Hexagon Manufacturing Intelligence   \n",
       "4                             HARTING AG   \n",
       "5         Hexagon Technology Center GmbH   \n",
       "6               Kost + Partner AG Sursee   \n",
       "7                                ANDRITZ   \n",
       "8            Swiss Birdradar Solution AG   \n",
       "9  Siemens Healthineers International AG   \n",
       "\n",
       "                                            job_link        keyword  \n",
       "0  https://www.jobs.ch/en/vacancies/detail/3fa23b...  data engineer  \n",
       "1  https://www.jobs.ch/en/vacancies/detail/54aa6c...  data engineer  \n",
       "2  https://www.jobs.ch/en/vacancies/detail/c8f7e0...  data engineer  \n",
       "3  https://www.jobs.ch/en/vacancies/detail/8dd0c8...  data engineer  \n",
       "4  https://www.jobs.ch/en/vacancies/detail/6b99d0...  data engineer  \n",
       "5  https://www.jobs.ch/en/vacancies/detail/1db76b...  data engineer  \n",
       "6  https://www.jobs.ch/en/vacancies/detail/29b656...  data engineer  \n",
       "7  https://www.jobs.ch/en/vacancies/detail/c7b03a...  data engineer  \n",
       "8  https://www.jobs.ch/en/vacancies/detail/cf9b05...  data engineer  \n",
       "9  https://www.jobs.ch/en/vacancies/detail/bbdf25...  data engineer  "
      ]
     },
     "execution_count": 4,
     "metadata": {},
     "output_type": "execute_result"
    }
   ],
   "source": [
    "# Print the found jobs\n",
    "df_jobs = df_all[\"results\"]\n",
    "df_jobs.head(10)"
   ]
  },
  {
   "cell_type": "code",
   "execution_count": 3,
   "metadata": {},
   "outputs": [
    {
     "name": "stdout",
     "output_type": "stream",
     "text": [
      "this job shouldnt exist not found\n",
      "Empty DataFrame\n",
      "Columns: []\n",
      "Index: []\n",
      "['this job shouldnt exist']\n"
     ]
    }
   ],
   "source": [
    "# This should return no data and report the error\n",
    "df_error = df_full_data([\"this job shouldnt exist\"])\n",
    "\n",
    "# The empty data frame\n",
    "print(df_error[\"results\"])\n",
    "\n",
    "# Returns the jobs that were not found\n",
    "print(df_error[\"errors\"])"
   ]
  },
  {
   "attachments": {},
   "cell_type": "markdown",
   "metadata": {},
   "source": [
    "## Data Cleaning\n",
    "\n",
    "Lets do some additional data cleaning. For 83 job postings the company and the job_type are inverted. That issue can be automatically used if we find the tag instead of the index."
   ]
  },
  {
   "cell_type": "code",
   "execution_count": 23,
   "metadata": {},
   "outputs": [
    {
     "data": {
      "text/plain": [
       "array(['Temporary', 'Unlimited employment', 'Freelance', 'Internship',\n",
       "       'Jet Aviation AG', 'Sensirion AG', 'Apprenticeship', 'KPMG',\n",
       "       'Universität Basel', 'COOP', 'Supplementary income'], dtype=object)"
      ]
     },
     "execution_count": 23,
     "metadata": {},
     "output_type": "execute_result"
    }
   ],
   "source": [
    "# There is an index problem for some cases and therefore some job types do not make sense\n",
    "df_jobs.job_type.unique()"
   ]
  },
  {
   "cell_type": "code",
   "execution_count": 25,
   "metadata": {},
   "outputs": [],
   "source": [
    "# Filter those positions were job types are correct\n",
    "df_jobs_correct = df_jobs[~df_jobs[\"job_type\"].isin(['Jet Aviation AG', 'Sensirion AG', 'KPMG', 'Universität Basel', 'COOP'])].copy()\n",
    "\n",
    "# Filter those positions were job types are incorrect\n",
    "df_jobs_incorrect = df_jobs[df_jobs[\"job_type\"].isin(['Jet Aviation AG', 'Sensirion AG', 'KPMG', 'Universität Basel', 'COOP'])].copy()"
   ]
  },
  {
   "cell_type": "code",
   "execution_count": 27,
   "metadata": {},
   "outputs": [],
   "source": [
    "# For those reverse the order and job_type should be empty\n",
    "df_jobs_incorrect[\"company\"] = df_jobs_incorrect[\"job_type\"]\n",
    "df_jobs_incorrect[\"job_type\"] = \"\""
   ]
  },
  {
   "cell_type": "code",
   "execution_count": 28,
   "metadata": {},
   "outputs": [],
   "source": [
    "df_jobs_clean = pd.concat([df_jobs_correct, df_jobs_incorrect], ignore_index = True)"
   ]
  },
  {
   "attachments": {},
   "cell_type": "markdown",
   "metadata": {},
   "source": [
    "## Analysis\n",
    "\n",
    "How many jobs are shared between these categories?"
   ]
  },
  {
   "cell_type": "code",
   "execution_count": 47,
   "metadata": {},
   "outputs": [
    {
     "data": {
      "text/plain": [
       "1124"
      ]
     },
     "execution_count": 47,
     "metadata": {},
     "output_type": "execute_result"
    }
   ],
   "source": [
    "df_jobs_clean[\"job_id\"] = df_jobs_clean.apply(lambda x: x[\"job_link\"].split(\"/\")[-2], axis = 1)\n",
    "df_duplicated = df_jobs_clean.groupby(by = \"job_id\").keyword.nunique().reset_index()\n",
    "df_duplicated = df_duplicated[df_duplicated[\"keyword\"] > 1].sort_values(by = \"keyword\", ascending=False)\n",
    "df_duplicated.shape[0]"
   ]
  }
 ],
 "metadata": {
  "kernelspec": {
   "display_name": "dskit",
   "language": "python",
   "name": "python3"
  },
  "language_info": {
   "codemirror_mode": {
    "name": "ipython",
    "version": 3
   },
   "file_extension": ".py",
   "mimetype": "text/x-python",
   "name": "python",
   "nbconvert_exporter": "python",
   "pygments_lexer": "ipython3",
   "version": "3.10.10"
  },
  "orig_nbformat": 4
 },
 "nbformat": 4,
 "nbformat_minor": 2
}
